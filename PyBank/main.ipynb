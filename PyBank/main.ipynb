{
 "cells": [
  {
   "cell_type": "code",
   "execution_count": null,
   "metadata": {},
   "outputs": [],
   "source": [
    "#Initial commit: PyBank homework exercise 1. Benjamin Weymouth "
   ]
  },
  {
   "cell_type": "code",
   "execution_count": null,
   "metadata": {},
   "outputs": [],
   "source": [
    "# sum() , print formatting with a $ dollar sign \n",
    "# avg function avg()\n",
    "# some of them want decimals, others no decimals \n"
   ]
  },
  {
   "cell_type": "code",
   "execution_count": null,
   "metadata": {},
   "outputs": [],
   "source": [
    "#The total number of months included in the dataset.\n",
    "#Pseudo-code: We will need a function that takes the count of the number of months \n",
    "#We instantiate a value to hold the count of the numbers of months. \n",
    "#We take a for loop, iterate through, count up the number of month. \n",
    "#Then we print out the number of months. \n",
    "#variable for total_months"
   ]
  },
  {
   "cell_type": "code",
   "execution_count": null,
   "metadata": {},
   "outputs": [],
   "source": [
    "#The net total amount of Profit/Losses over the entire period.\n",
    "#Pseudo-code: Take a for loop, and iterate through the profit/losses column \n",
    "#Sum up the total in P/L column \n",
    "# total +=, sum() \n",
    "#variable called total_amount"
   ]
  },
  {
   "cell_type": "code",
   "execution_count": null,
   "metadata": {},
   "outputs": [],
   "source": [
    "#The average of the changes in Profit/Losses over the entire period.\n",
    "#variable name is average_PL\n",
    "#Pseudo-code: average_PL = round(total_amount / total_months, 2)\n",
    "#do need to add the dollar sign \n",
    "#print(f\"Average  Change: ${average_PL}\")"
   ]
  },
  {
   "cell_type": "code",
   "execution_count": null,
   "metadata": {},
   "outputs": [],
   "source": [
    "#Create a list of PnL numbers. \n",
    "# PL_values = []\n",
    "#The greatest increase in profits (date and amount) over the entire period.\n",
    "\n",
    "#Pseudo-code: maximum_value, but with no decimal places "
   ]
  },
  {
   "cell_type": "code",
   "execution_count": null,
   "metadata": {},
   "outputs": [],
   "source": [
    "#The greatest decrease in losses (date and amount) over the entire period.\n",
    "#Pseudo-code: minimum_value, but with no decimal places "
   ]
  },
  {
   "cell_type": "code",
   "execution_count": null,
   "metadata": {},
   "outputs": [],
   "source": [
    "#print out all the values \n",
    "#make sure its formatted as in the example \n",
    "# print(----------------------)\n"
   ]
  },
  {
   "cell_type": "code",
   "execution_count": null,
   "metadata": {},
   "outputs": [],
   "source": [
    "##last step\n",
    "#set up a list to hold all of our data\n",
    "\n",
    "metrics = []\n",
    "# export a text file with the results.\n",
    "#use csv_reader.py file as a template \n",
    "\n"
   ]
  }
 ],
 "metadata": {
  "kernelspec": {
   "display_name": "Python 3",
   "language": "python",
   "name": "python3"
  },
  "language_info": {
   "codemirror_mode": {
    "name": "ipython",
    "version": 3
   },
   "file_extension": ".py",
   "mimetype": "text/x-python",
   "name": "python",
   "nbconvert_exporter": "python",
   "pygments_lexer": "ipython3",
   "version": "3.8.5"
  }
 },
 "nbformat": 4,
 "nbformat_minor": 4
}
