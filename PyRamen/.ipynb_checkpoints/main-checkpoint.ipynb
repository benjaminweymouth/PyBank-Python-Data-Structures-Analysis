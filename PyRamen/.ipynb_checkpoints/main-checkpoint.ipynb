{
 "cells": [
  {
   "cell_type": "code",
   "execution_count": 1,
   "metadata": {},
   "outputs": [],
   "source": [
    "#PyRamen - Python Homework 1 - Benjamin Weymouth "
   ]
  },
  {
   "cell_type": "code",
   "execution_count": 2,
   "metadata": {},
   "outputs": [],
   "source": [
    "#import required libraries \n",
    "import csv\n",
    "from pathlib import Path"
   ]
  },
  {
   "cell_type": "code",
   "execution_count": 3,
   "metadata": {},
   "outputs": [
    {
     "data": {
      "text/plain": [
       "WindowsPath('Resources/menu_data.csv')"
      ]
     },
     "execution_count": 3,
     "metadata": {},
     "output_type": "execute_result"
    }
   ],
   "source": [
    "# set up the file path for menu and check it \n",
    "menu_filepath = Path('./Resources/menu_data.csv')\n",
    "menu_filepath"
   ]
  },
  {
   "cell_type": "code",
   "execution_count": 4,
   "metadata": {},
   "outputs": [
    {
     "data": {
      "text/plain": [
       "WindowsPath('Resources/sales_data.csv')"
      ]
     },
     "execution_count": 4,
     "metadata": {},
     "output_type": "execute_result"
    }
   ],
   "source": [
    "# set up the file path for sales and check it \n",
    "sales_filepath = Path('./Resources/sales_data.csv')\n",
    "sales_filepath"
   ]
  },
  {
   "cell_type": "code",
   "execution_count": 5,
   "metadata": {},
   "outputs": [],
   "source": [
    "#list objects for menus and sales data \n",
    "menus = []\n",
    "sales = []"
   ]
  },
  {
   "cell_type": "code",
   "execution_count": 6,
   "metadata": {},
   "outputs": [
    {
     "name": "stdout",
     "output_type": "stream",
     "text": [
      "<class '_io.TextIOWrapper'>\n",
      "<class '_csv.reader'>\n"
     ]
    }
   ],
   "source": [
    "# Read in the menu data into the menu list\n",
    "\n",
    "with open(menu_filepath, 'r') as csvfile:\n",
    "\n",
    "    # check type\n",
    "    print(type(csvfile))\n",
    "\n",
    "    # set up csv.reader, specify a delimiter \n",
    "    csvreader = csv.reader(csvfile, delimiter=',')\n",
    "    # check csv datatype \n",
    "    print(type(csvreader))\n",
    "    \n",
    "      # skip over header\n",
    "    header = next(csvreader)\n",
    "        \n",
    "    #read in menu data into a list object \n",
    "    for row in csvreader:\n",
    "        # menu variable equal to menu row values \n",
    "        menu = row[0:5]\n",
    "        # Append the row menu value to the list of menus\n",
    "        menus.append(menu)"
   ]
  },
  {
   "cell_type": "code",
   "execution_count": 7,
   "metadata": {},
   "outputs": [
    {
     "name": "stdout",
     "output_type": "stream",
     "text": [
      "32\n"
     ]
    }
   ],
   "source": [
    "#only to show work as testing purposes (test driven development) check length of list \n",
    "#should be 32 because we skipped the header   \n",
    "\n",
    "print(len(menus))"
   ]
  },
  {
   "cell_type": "code",
   "execution_count": 8,
   "metadata": {},
   "outputs": [
    {
     "name": "stdout",
     "output_type": "stream",
     "text": [
      "<class '_io.TextIOWrapper'>\n",
      "<class '_csv.reader'>\n",
      "['Line_Item_ID', 'Date', 'Credit_Card_Number', 'Quantity', 'Menu_Item']\n"
     ]
    }
   ],
   "source": [
    "# Read in the sales data into the sales list\n",
    "# use open method to open sales_filepath\n",
    "\n",
    "with open(sales_filepath, 'r') as csvfile:\n",
    "\n",
    "    # check type\n",
    "    print(type(csvfile))\n",
    "\n",
    "    # set up csv.reader, specify a delimiter \n",
    "    csvreader = csv.reader(csvfile, delimiter=',')\n",
    "    \n",
    "    # check csv datatype \n",
    "    print(type(csvreader))\n",
    "    \n",
    "    # skip over header\n",
    "    header = next(csvreader)\n",
    "    print(header)\n",
    "    \n",
    "    #read in data into a list object \n",
    "    for row in csvreader:\n",
    "        # sale variable equal to sale row values \n",
    "         \n",
    "        sale = row[0:5]\n",
    "        # Append the row sale value to the list of sales\n",
    "        sales.append(sale)"
   ]
  },
  {
   "cell_type": "code",
   "execution_count": 9,
   "metadata": {},
   "outputs": [
    {
     "data": {
      "text/plain": [
       "{}"
      ]
     },
     "execution_count": 9,
     "metadata": {},
     "output_type": "execute_result"
    }
   ],
   "source": [
    "# Initialize dict object to hold our key-value pairs of items and metrics\n",
    "report = {}\n",
    "report"
   ]
  },
  {
   "cell_type": "code",
   "execution_count": 10,
   "metadata": {
    "tags": []
   },
   "outputs": [],
   "source": [
    "#list for data that doesnt match \n",
    "no_match = []\n",
    "\n",
    "#loop through the sales list, check if the menu_item column exists in the dictionary called report \n",
    "\n",
    "for row in sales:\n",
    "    #set sales data metrics, specify row and cast quantity to integer\n",
    "    menu_item = row[4]\n",
    "    quantity = int(row[3])\n",
    "    \n",
    "    #check for item, if not already there add initialized metrics\n",
    "    if menu_item not in report:\n",
    "        report[menu_item] = { \"01-count\": 0, \"02-revenue\": 0, \"03-cogs\": 0, \"04-profit\": 0,}\n",
    "    for i in menus: \n",
    "        item = i[0]\n",
    "        price = float(i[3])\n",
    "        cost = float(i[4])\n",
    "        profit = (price - cost) \n",
    "        #if sales item matches menu item, track metrics\n",
    "        if item == menu_item:\n",
    "            report[menu_item][\"01-count\"] += quantity\n",
    "            report[menu_item][\"02-revenue\"] += price * quantity\n",
    "            report[menu_item][\"03-cogs\"] += cost * quantity\n",
    "            report[menu_item][\"04-profit\"] += profit * quantity\n",
    "        #if sales item does not match, append message to list \n",
    "        elif item != menu_item: \n",
    "            no_match.append(f\"{menu_item} does not equal {item}! NO MATCH!\")"
   ]
  },
  {
   "cell_type": "code",
   "execution_count": 11,
   "metadata": {
    "scrolled": true
   },
   "outputs": [
    {
     "name": "stdout",
     "output_type": "stream",
     "text": [
      "{'spicy miso ramen': {'01-count': 9238, '02-revenue': 110856.0, '03-cogs': 46190.0, '04-profit': 64666.0}, 'tori paitan ramen': {'01-count': 9156, '02-revenue': 119028.0, '03-cogs': 54936.0, '04-profit': 64092.0}, 'truffle butter ramen': {'01-count': 8982, '02-revenue': 125748.0, '03-cogs': 62874.0, '04-profit': 62874.0}, 'tonkotsu ramen': {'01-count': 9288, '02-revenue': 120744.0, '03-cogs': 55728.0, '04-profit': 65016.0}, 'vegetarian spicy miso': {'01-count': 9216, '02-revenue': 110592.0, '03-cogs': 46080.0, '04-profit': 64512.0}, 'shio ramen': {'01-count': 9180, '02-revenue': 100980.0, '03-cogs': 45900.0, '04-profit': 55080.0}, 'miso crab ramen': {'01-count': 8890, '02-revenue': 106680.0, '03-cogs': 53340.0, '04-profit': 53340.0}, 'nagomi shoyu': {'01-count': 9132, '02-revenue': 100452.0, '03-cogs': 45660.0, '04-profit': 54792.0}, 'soft-shell miso crab ramen': {'01-count': 9130, '02-revenue': 127820.0, '03-cogs': 63910.0, '04-profit': 63910.0}, 'burnt garlic tonkotsu ramen': {'01-count': 9070, '02-revenue': 126980.0, '03-cogs': 54420.0, '04-profit': 72560.0}, 'vegetarian curry + king trumpet mushroom ramen': {'01-count': 8824, '02-revenue': 114712.0, '03-cogs': 61768.0, '04-profit': 52944.0}}\n"
     ]
    }
   ],
   "source": [
    "#Print out the matching Data with the metrics (will also be written to output.txt file)\n",
    "print(report) \n",
    "\n",
    "#for testing purposes: prints content of list that holds \"no matches\"\n",
    "#print(no_match)"
   ]
  },
  {
   "cell_type": "code",
   "execution_count": 12,
   "metadata": {},
   "outputs": [
    {
     "name": "stdout",
     "output_type": "stream",
     "text": [
      "74124\n"
     ]
    }
   ],
   "source": [
    "#check length of sales list, print total number of records in sales data\n",
    "#should be 74125 minus the header so 74124 rows. \n",
    "\n",
    "print(len(sales))"
   ]
  },
  {
   "cell_type": "code",
   "execution_count": 13,
   "metadata": {},
   "outputs": [
    {
     "data": {
      "text/plain": [
       "WindowsPath('Resources/output.txt')"
      ]
     },
     "execution_count": 13,
     "metadata": {},
     "output_type": "execute_result"
    }
   ],
   "source": [
    "#write the output to a txt file \n",
    "output_file = Path('./Resources/output.txt')\n",
    "\n",
    "output_file"
   ]
  },
  {
   "cell_type": "code",
   "execution_count": 14,
   "metadata": {},
   "outputs": [],
   "source": [
    "# use file.write to output to the file. \n",
    "\n",
    "with open(output_file, 'w') as file:\n",
    "     for key, value in report.items(): \n",
    "        file.write('%s:%s\\n' % (key, value))"
   ]
  }
 ],
 "metadata": {
  "interpreter": {
   "hash": "8c9f6109243efbe3fbee7d761dc0e883205c8e2e3f541eaf566327113f419cea"
  },
  "kernelspec": {
   "display_name": "Python 3",
   "language": "python",
   "name": "python3"
  },
  "language_info": {
   "codemirror_mode": {
    "name": "ipython",
    "version": 3
   },
   "file_extension": ".py",
   "mimetype": "text/x-python",
   "name": "python",
   "nbconvert_exporter": "python",
   "pygments_lexer": "ipython3",
   "version": "3.8.5"
  }
 },
 "nbformat": 4,
 "nbformat_minor": 4
}
