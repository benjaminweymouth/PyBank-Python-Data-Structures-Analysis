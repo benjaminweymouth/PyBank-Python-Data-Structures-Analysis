{
 "cells": [
  {
   "cell_type": "code",
   "execution_count": 1,
   "metadata": {},
   "outputs": [],
   "source": [
    "#PyRamen - Python Homework 1 - Benjamin Weymouth "
   ]
  },
  {
   "cell_type": "code",
   "execution_count": 2,
   "metadata": {},
   "outputs": [],
   "source": [
    "#import required libraries \n",
    "import csv\n",
    "from pathlib import Path\n",
    "import numpy as np "
   ]
  },
  {
   "cell_type": "code",
   "execution_count": 3,
   "metadata": {},
   "outputs": [
    {
     "data": {
      "text/plain": [
       "WindowsPath('Resources/menu_data.csv')"
      ]
     },
     "execution_count": 3,
     "metadata": {},
     "output_type": "execute_result"
    }
   ],
   "source": [
    "# set up the file path for menu and check it \n",
    "menu_filepath = Path('./Resources/menu_data.csv')\n",
    "\n",
    "menu_filepath"
   ]
  },
  {
   "cell_type": "code",
   "execution_count": 4,
   "metadata": {},
   "outputs": [
    {
     "data": {
      "text/plain": [
       "WindowsPath('Resources/sales_data.csv')"
      ]
     },
     "execution_count": 4,
     "metadata": {},
     "output_type": "execute_result"
    }
   ],
   "source": [
    "sales_filepath = Path('./Resources/sales_data.csv')\n",
    "sales_filepath"
   ]
  },
  {
   "cell_type": "code",
   "execution_count": 5,
   "metadata": {},
   "outputs": [
    {
     "name": "stdout",
     "output_type": "stream",
     "text": [
      "Current Working Directory: C:\\Users\\benja\\BootCamp_Python_Homework\\python-homework\\PyRamen\n"
     ]
    }
   ],
   "source": [
    "#check working directory \n",
    "\n",
    "print(f\"Current Working Directory: {Path.cwd()}\")"
   ]
  },
  {
   "cell_type": "code",
   "execution_count": 6,
   "metadata": {},
   "outputs": [],
   "source": [
    "#list objects for menu and sales data\n",
    "menus = []\n",
    "sales = []\n"
   ]
  },
  {
   "cell_type": "code",
   "execution_count": 7,
   "metadata": {},
   "outputs": [
    {
     "name": "stdout",
     "output_type": "stream",
     "text": [
      "<class '_io.TextIOWrapper'>\n",
      "<class '_csv.reader'>\n",
      "['item', 'category', 'description', 'price', 'cost']\n"
     ]
    }
   ],
   "source": [
    "# @TODO: Read in the menu data into the menu list\n",
    "\n",
    "# use open method to open menu_path\n",
    "with open(menu_filepath, 'r') as csvfile:\n",
    "\n",
    "    # check type\n",
    "    print(type(csvfile))\n",
    "\n",
    "    # set up csv.reader, specify a delimiter \n",
    "    csvreader = csv.reader(csvfile, delimiter=',')\n",
    "    # check csv datatype \n",
    "    print(type(csvreader))\n",
    "    \n",
    "      # skip over header\n",
    "    header = next(csvreader)\n",
    "    print(header)\n",
    "    \n",
    "    #read in data into a list object \n",
    "    for row in csvreader:\n",
    "        # date variable equal to date row values \n",
    "         \n",
    "        menu = row[0:5]\n",
    "        # Append the row date value to the list of dates\n",
    "        menus.append(menu)\n",
    "\n",
    "        #commented out print method. only to show work as testing purposes (test driven development)\n",
    "#print(menus)"
   ]
  },
  {
   "cell_type": "code",
   "execution_count": 8,
   "metadata": {},
   "outputs": [
    {
     "name": "stdout",
     "output_type": "stream",
     "text": [
      "32\n"
     ]
    }
   ],
   "source": [
    "#check length of list \n",
    "#should be 32 because we skipped the header   \n",
    "\n",
    "print(len(menus))"
   ]
  },
  {
   "cell_type": "code",
   "execution_count": 9,
   "metadata": {},
   "outputs": [
    {
     "name": "stdout",
     "output_type": "stream",
     "text": [
      "<class '_io.TextIOWrapper'>\n",
      "<class '_csv.reader'>\n",
      "['Line_Item_ID', 'Date', 'Credit_Card_Number', 'Quantity', 'Menu_Item']\n"
     ]
    }
   ],
   "source": [
    "# @TODO: Read in the sales data into the sales list\n",
    "\n",
    "# use open method to open menu_path\n",
    "with open(sales_filepath, 'r') as csvfile:\n",
    "\n",
    "    # check type\n",
    "    print(type(csvfile))\n",
    "\n",
    "    # set up csv.reader, specify a delimiter \n",
    "    csvreader = csv.reader(csvfile, delimiter=',')\n",
    "    # check csv datatype \n",
    "    print(type(csvreader))\n",
    "    \n",
    "    # skip over header\n",
    "    header = next(csvreader)\n",
    "    print(header)\n",
    "    \n",
    "    #read in data into a list object \n",
    "    for row in csvreader:\n",
    "        # date variable equal to date row values \n",
    "         \n",
    "        sale = row[0:5]\n",
    "        # Append the row date value to the list of dates\n",
    "        sales.append(sale)\n",
    "        \n",
    "    #Only for testing purposes so commented out (but kept to show work)\n",
    "    #print(sales)"
   ]
  },
  {
   "cell_type": "code",
   "execution_count": 10,
   "metadata": {},
   "outputs": [
    {
     "name": "stdout",
     "output_type": "stream",
     "text": [
      "74124\n"
     ]
    }
   ],
   "source": [
    "#check length of sales list \n",
    "#should be 74124 minus the header so 74124 rows. \n",
    "\n",
    "print(len(sales))"
   ]
  },
  {
   "cell_type": "code",
   "execution_count": null,
   "metadata": {},
   "outputs": [],
   "source": [
    "# Initialize dict object to hold our key-value pairs of items and metrics\n",
    "report = {}\n",
    "\n"
   ]
  },
  {
   "cell_type": "code",
   "execution_count": 11,
   "metadata": {},
   "outputs": [],
   "source": [
    "# sales data, set the following columns of the sales data to their own variables:\n",
    "\n",
    "#sales"
   ]
  },
  {
   "cell_type": "code",
   "execution_count": 16,
   "metadata": {},
   "outputs": [],
   "source": [
    "# @TODO: Initialize sales data variables\n",
    "#Line_Item_ID  is index 0\n",
    "#Date is index 1\n",
    "#Credit_Card_Number  is index 2\n",
    "#Quantity which is index 3 \n",
    "#Menu_Item which is index 4\n",
    "\n",
    "line_item_id = [row[0] for row in sales]\n",
    "date = [row[1] for row in sales]\n",
    "credit_card_number = [row[2] for row in sales]\n",
    "quantity = [row[3] for row in sales]\n",
    "menu_item = [row[4] for row in sales]\n",
    "\n",
    "#print statements for testing purposes only \n",
    "#print(line_item_id)\n",
    "#print(date)\n",
    "#print(credit_card_number)\n",
    "#print(quantity)\n",
    "#print(menu_item)\n",
    "\n",
    " \n",
    "    \n",
    "    "
   ]
  },
  {
   "cell_type": "code",
   "execution_count": 20,
   "metadata": {},
   "outputs": [
    {
     "name": "stdout",
     "output_type": "stream",
     "text": [
      "['boiled soybeans, maldon sea salt', 'mixed greens, cherry tomatoes, cucumber, house ginger dressing', 'cucumber, ponzu dressing, pickled ginger sproud, sesame seeds', 'sweet soy-marinated wakame seaweed threads, pickled ginger sprout, sesame seeds', 'tempura battered tofu, katsuobushi, tsuyu broth, scallions', 'chilled soft tofu, house shoyu, katsuobushi, ginger, scallions', 'two steamed buns, minced lean slow braised niman, ranch pork belly, cucumbers, sriracha mayo', 'two steamed buns, chopped fatty slow braised niman ranch pork belly, cucumbers, house bao sauce', 'six crispy fried edamame and cabbage pot stickers; ponzu rayu dipping sauce', 'six cripsy fried pork and vegetable pot stickers; ponzu rayu dipping sauce', 'six octopus-filled fried fritters, kewpie mayo, okonomi sauce, aonori, katsuobushi, nori', 'deep fried tempura battered rock shrimp, sriracha mayo, nisume sauce, aonori, scallions', 'single deep fried soft-shell crab, tsuyu dipping broth', 'two steamed buns, panko-crusted fried shrimp patties, yuzu-kosho mayo, aonori, scallions', 'shoyu seasoned clear double stock (organic chick broth + house dashi); slow braised niman ranch pork belly, hanjuku tamago, nori, menma, scallions', 'sea salt seasoned clear double stock (organic chicken broth + house dashi); slow braised niman ranch pork belly, hanjuku tamago, kikurage, nori, scallions', 'house togarashi miso blend + niman ranch pork bone stock; slow braised niman ranch pork belly, hanjuku tamago, kikurage, nori, scallions', 'house togarashi miso blend + vegan dashi; tempura fried tofu, sweet corn, edamame, kikurage, nori, scallions; organic soy milk upon request', 'house miso crab blend + vegan dashi; slow braised niman ranch pork belly, crab meat, hanjuku tamago, kikurage, nori, scallions', 'house miso crab blend + vegan dashi; fried whole soft-shell crab, hanjuku tamago, kikurage, nori, scallions', 'rich, shoyu seasoned double stock (organic chicken broth + house dashi); slow braised niman ranch pork belly, hanuku tamago, kikurage, nori, scllaions', 'rich, shoyi seasoned niman ranch pork bone stock; slow braised niman ranch pork belly, hanjuku tamago, kikurage, nori, spring radish, scallions', 'rich, shoyi and burnt garlic seasoned niman ranch pork bone stock; slow braised niman ranch pork belly, hanjuku tamago, kikurage, sweet corn, nori, scallions', 'house curry blend + vegan dashi; fried king trumpet mushroom, tempura fried tofu, mung bean sprouts, kikurage, nori, scallions', 'rich, shoyu seasoned niman ranch prok bone stock; truffle compound butter, slow braised niman ranch pork belly, kikurage, sweet corn, nori, scallions', 'green tea', 'Coca Cola soda', 'house-made black sesame ice cream, valrhona chocolate threads, complimentary hojicha', 'house-made matcha ice cream, white chocolate pearls; complimentary hojicha', 'two rice-cake bonbons filled with strawberry ice cream; complimentary hojicha', 'two rice-cake bonbons filled with strawberry ice cream; complimentary hojicha', 'house made black sesame infused creme brulee; complimentary hojicha']\n"
     ]
    }
   ],
   "source": [
    "# @TODO: Initialize menu data variables\n",
    "#item  is index 0\n",
    "#category is index 1\n",
    "#description  is index 2\n",
    " \n",
    "\n",
    "item = [row[0] for row in menus]\n",
    "category  = [row[1] for row in menus]\n",
    "description  = [row[2] for row in menus]\n",
    "\n",
    "#print statements for testing purposes only \n",
    "#print(item)\n",
    "#print(category)\n",
    "#print(description)\n",
    "\n"
   ]
  },
  {
   "cell_type": "code",
   "execution_count": null,
   "metadata": {},
   "outputs": [],
   "source": []
  }
 ],
 "metadata": {
  "interpreter": {
   "hash": "8c9f6109243efbe3fbee7d761dc0e883205c8e2e3f541eaf566327113f419cea"
  },
  "kernelspec": {
   "display_name": "Python 3",
   "language": "python",
   "name": "python3"
  },
  "language_info": {
   "codemirror_mode": {
    "name": "ipython",
    "version": 3
   },
   "file_extension": ".py",
   "mimetype": "text/x-python",
   "name": "python",
   "nbconvert_exporter": "python",
   "pygments_lexer": "ipython3",
   "version": "3.7.10"
  }
 },
 "nbformat": 4,
 "nbformat_minor": 4
}
