{
 "cells": [
  {
   "cell_type": "code",
   "execution_count": 1,
   "metadata": {},
   "outputs": [],
   "source": [
    "#PyBank homework exercise 1. Name: Benjamin Weymouth "
   ]
  },
  {
   "cell_type": "code",
   "execution_count": 2,
   "metadata": {},
   "outputs": [],
   "source": [
    "#import required libraries \n",
    "import csv\n",
    "from pathlib import Path\n",
    "import numpy as np "
   ]
  },
  {
   "cell_type": "code",
   "execution_count": 3,
   "metadata": {},
   "outputs": [
    {
     "data": {
      "text/plain": [
       "WindowsPath('Resources/budget_data.csv')"
      ]
     },
     "execution_count": 3,
     "metadata": {},
     "output_type": "execute_result"
    }
   ],
   "source": [
    "# set up the file path \n",
    "csvpath = Path('./Resources/budget_data.csv')\n",
    "csvpath"
   ]
  },
  {
   "cell_type": "code",
   "execution_count": 4,
   "metadata": {},
   "outputs": [],
   "source": [
    "# Initialize lists to hold data \n",
    "\n",
    "dates = []\n",
    "profit_losses = []"
   ]
  },
  {
   "cell_type": "code",
   "execution_count": 5,
   "metadata": {},
   "outputs": [
    {
     "name": "stdout",
     "output_type": "stream",
     "text": [
      "<class '_io.TextIOWrapper'>\n",
      "<class '_csv.reader'>\n",
      "['Date', 'Profit/Losses']\n"
     ]
    }
   ],
   "source": [
    "# use open method to open csvpath \n",
    "with open(csvpath, 'r') as csvfile:\n",
    "\n",
    "    # check datatype \n",
    "    print(type(csvfile))\n",
    "\n",
    "    # set up csv.reader, specify a delimiter \n",
    "    csvreader = csv.reader(csvfile, delimiter=',')\n",
    "    # check csv datatype \n",
    "    print(type(csvreader))\n",
    "        \n",
    "    # skip over header\n",
    "    header = next(csvreader)\n",
    "    print(header)\n",
    "    \n",
    "    #read in data into a list object \n",
    "    for row in csvreader:\n",
    "        # date variable equal to date row values \n",
    "         \n",
    "        date = row[0]\n",
    "        # Append the row date value to the list of dates\n",
    "        dates.append(date)\n",
    "        #set profit_loss value and casting to an integer \n",
    "        profit_loss = int(row[1])\n",
    "        profit_losses.append(profit_loss)      \n",
    "    "
   ]
  },
  {
   "cell_type": "code",
   "execution_count": 6,
   "metadata": {},
   "outputs": [
    {
     "name": "stdout",
     "output_type": "stream",
     "text": [
      "38382578\n",
      "86\n"
     ]
    }
   ],
   "source": [
    "#initialize Variables for total and count \n",
    "\n",
    "total_profit_losses = 0\n",
    "count_profit_losses = 0\n",
    "\n",
    "#use profit_losses list to find total and count \n",
    "\n",
    "for profit_loss in profit_losses:\n",
    "\n",
    "    # Sum the total and count variables\n",
    "    total_profit_losses += profit_loss\n",
    "    count_profit_losses += 1\n",
    "\n",
    "#for testing purposes, printing values of variables \n",
    "print(total_profit_losses)  \n",
    "print(count_profit_losses)\n",
    " "
   ]
  },
  {
   "cell_type": "code",
   "execution_count": 7,
   "metadata": {},
   "outputs": [
    {
     "data": {
      "text/plain": [
       "86"
      ]
     },
     "execution_count": 7,
     "metadata": {},
     "output_type": "execute_result"
    }
   ],
   "source": [
    "#Find the total number of months included in the dataset.\n",
    "#using the built in \"len\" method \n",
    "total_months = len(dates)\n",
    "\n",
    "total_months"
   ]
  },
  {
   "cell_type": "code",
   "execution_count": 8,
   "metadata": {},
   "outputs": [
    {
     "data": {
      "text/plain": [
       "[867884,\n",
       " 984655,\n",
       " 322013,\n",
       " -69417,\n",
       " 310503,\n",
       " 522857,\n",
       " 1033096,\n",
       " 604885,\n",
       " -216386,\n",
       " 477532,\n",
       " 893810,\n",
       " -80353,\n",
       " 779806,\n",
       " -335203,\n",
       " 697845,\n",
       " 793163,\n",
       " 485070,\n",
       " 584122,\n",
       " 62729,\n",
       " 668179,\n",
       " 899906,\n",
       " 834719,\n",
       " 132003,\n",
       " 309978,\n",
       " -755566,\n",
       " 1170593,\n",
       " 252788,\n",
       " 1151518,\n",
       " 817256,\n",
       " 570757,\n",
       " 506702,\n",
       " -1022534,\n",
       " 475062,\n",
       " 779976,\n",
       " 144175,\n",
       " 542494,\n",
       " 359333,\n",
       " 321469,\n",
       " 67780,\n",
       " 471435,\n",
       " 565603,\n",
       " 872480,\n",
       " 789480,\n",
       " 999942,\n",
       " -1196225,\n",
       " 268997,\n",
       " -687986,\n",
       " 1150461,\n",
       " 682458,\n",
       " 617856,\n",
       " 824098,\n",
       " 581943,\n",
       " 132864,\n",
       " 448062,\n",
       " 689161,\n",
       " 800701,\n",
       " 1166643,\n",
       " 947333,\n",
       " 578668,\n",
       " 988505,\n",
       " 1139715,\n",
       " 1029471,\n",
       " 687533,\n",
       " -524626,\n",
       " 158620,\n",
       " 87795,\n",
       " 423389,\n",
       " 840723,\n",
       " 568529,\n",
       " 332067,\n",
       " 989499,\n",
       " 778237,\n",
       " 650000,\n",
       " -1100387,\n",
       " -174946,\n",
       " 757143,\n",
       " 445709,\n",
       " 712961,\n",
       " -1163797,\n",
       " 569899,\n",
       " 768450,\n",
       " 102685,\n",
       " 795914,\n",
       " 60988,\n",
       " 138230,\n",
       " 671099]"
      ]
     },
     "execution_count": 8,
     "metadata": {},
     "output_type": "execute_result"
    }
   ],
   "source": [
    "#list holding only the profits and losses \n",
    "profit_losses"
   ]
  },
  {
   "cell_type": "code",
   "execution_count": 9,
   "metadata": {},
   "outputs": [
    {
     "data": {
      "text/plain": [
       "array([  116771,  -662642,  -391430,   379920,   212354,   510239,\n",
       "        -428211,  -821271,   693918,   416278,  -974163,   860159,\n",
       "       -1115009,  1033048,    95318,  -308093,    99052,  -521393,\n",
       "         605450,   231727,   -65187,  -702716,   177975, -1065544,\n",
       "        1926159,  -917805,   898730,  -334262,  -246499,   -64055,\n",
       "       -1529236,  1497596,   304914,  -635801,   398319,  -183161,\n",
       "         -37864,  -253689,   403655,    94168,   306877,   -83000,\n",
       "         210462, -2196167,  1465222,  -956983,  1838447,  -468003,\n",
       "         -64602,   206242,  -242155,  -449079,   315198,   241099,\n",
       "         111540,   365942,  -219310,  -368665,   409837,   151210,\n",
       "        -110244,  -341938, -1212159,   683246,   -70825,   335594,\n",
       "         417334,  -272194,  -236462,   657432,  -211262,  -128237,\n",
       "       -1750387,   925441,   932089,  -311434,   267252, -1876758,\n",
       "        1733696,   198551,  -665765,   693229,  -734926,    77242,\n",
       "         532869])"
      ]
     },
     "execution_count": 9,
     "metadata": {},
     "output_type": "execute_result"
    }
   ],
   "source": [
    "#using the diff method in order to compute all changes in profit/losses\n",
    "#diff provides a list with all the differences \n",
    "\n",
    "#Official Documentation for reference: https://numpy.org/doc/stable/reference/generated/numpy.diff.html\n",
    "\n",
    "differences  = np.diff(profit_losses)\n",
    "#the numpy array \"differences\" now holds a numpy array of all differences / changes in profit/losses\n",
    "differences"
   ]
  },
  {
   "cell_type": "code",
   "execution_count": 10,
   "metadata": {},
   "outputs": [
    {
     "data": {
      "text/plain": [
       "1926159"
      ]
     },
     "execution_count": 10,
     "metadata": {},
     "output_type": "execute_result"
    }
   ],
   "source": [
    "#Use max method for the greatest increase in profits over the entire period.\n",
    "greatest_increase_profits = max(differences)\n",
    "greatest_increase_profits\n"
   ]
  },
  {
   "cell_type": "code",
   "execution_count": 11,
   "metadata": {},
   "outputs": [
    {
     "data": {
      "text/plain": [
       "-2196167"
      ]
     },
     "execution_count": 11,
     "metadata": {},
     "output_type": "execute_result"
    }
   ],
   "source": [
    "#Use min method for the greatest decrease in profits over the entire period.\n",
    "greatest_decrease_profits = min(differences)\n",
    "greatest_decrease_profits"
   ]
  },
  {
   "cell_type": "code",
   "execution_count": 12,
   "metadata": {},
   "outputs": [
    {
     "data": {
      "text/plain": [
       "-2315.1176470588234"
      ]
     },
     "execution_count": 12,
     "metadata": {},
     "output_type": "execute_result"
    }
   ],
   "source": [
    "#Use average method for the average change in profits over the entire period.\n",
    "average_change = np.average(differences)\n",
    "average_change"
   ]
  },
  {
   "cell_type": "code",
   "execution_count": 13,
   "metadata": {},
   "outputs": [
    {
     "name": "stdout",
     "output_type": "stream",
     "text": [
      "(array([24], dtype=int64),)\n",
      "(array([43], dtype=int64),)\n",
      "85\n",
      "86\n",
      "Feb-2012\n",
      "Sep-2013\n"
     ]
    }
   ],
   "source": [
    "#use Index to match value with month \n",
    "#Find index of the Greatest Increase in Profits \n",
    "max_index = np.where(differences == greatest_increase_profits)\n",
    "print(max_index) \n",
    "\n",
    "#Find index of the Greatest Decrease in Profits \n",
    "min_index = np.where(differences == greatest_decrease_profits)\n",
    "print(min_index) \n",
    "\n",
    "#Check length of each list. Dates has one more value than Differences list, so we add one to the index\n",
    "print(len(differences))\n",
    "print(len(dates))\n",
    "\n",
    "#Match up values index to Dates List \n",
    "\n",
    "max_date = dates[25]\n",
    "min_date = dates[44]"
   ]
  },
  {
   "cell_type": "code",
   "execution_count": 16,
   "metadata": {},
   "outputs": [
    {
     "name": "stdout",
     "output_type": "stream",
     "text": [
      "Financial Analysis\n",
      "----------------------------\n",
      "Total Months: 86\n",
      "Total: $38382578\n",
      "Average  Change: $-2315.12\n",
      "Greatest Increase in Profits: Feb-2012 ($1926159)\n",
      "Greatest Decrease in Profits: Sep-2013 ($-2196167)\n"
     ]
    }
   ],
   "source": [
    "#print the analysis to the terminal \n",
    "\n",
    "print(\"Financial Analysis\")\n",
    "print(\"----------------------------\")\n",
    "print(f\"Total Months: {total_months}\")\n",
    "print(f\"Total: ${total_profit_losses}\")\n",
    "print(f\"Average  Change: ${round(average_change, 2)}\")\n",
    "print(f\"Greatest Increase in Profits: {max_date} (${greatest_increase_profits})\")\n",
    "print(f\"Greatest Decrease in Profits: {min_date} (${greatest_decrease_profits})\")"
   ]
  },
  {
   "cell_type": "code",
   "execution_count": 15,
   "metadata": {},
   "outputs": [],
   "source": [
    "# export a text file with the results.\n",
    "output_file = Path('./Resources/output.txt')\n",
    "\n",
    "# use file.write to output to the file. \n",
    "with open(output_file, 'w') as file:\n",
    "    file.write(\"Financial Analysis\\n\")\n",
    "    file.write(\"----------------------------\\n\")\n",
    "    file.write(f\"Total Months: {total_months}\\n\")\n",
    "    file.write(f\"Total: ${total_profit_losses}\\n\")\n",
    "    file.write(f\"Average  Change: ${round(average_change, 2)}\\n\")\n",
    "    file.write(f\"Greatest Increase in Profits: {max_date} (${greatest_increase_profits})\\n\")\n",
    "    file.write(f\"Greatest Decrease in Profits: {min_date} (${greatest_decrease_profits})\")"
   ]
  }
 ],
 "metadata": {
  "kernelspec": {
   "display_name": "Python 3",
   "language": "python",
   "name": "python3"
  },
  "language_info": {
   "codemirror_mode": {
    "name": "ipython",
    "version": 3
   },
   "file_extension": ".py",
   "mimetype": "text/x-python",
   "name": "python",
   "nbconvert_exporter": "python",
   "pygments_lexer": "ipython3",
   "version": "3.8.5"
  }
 },
 "nbformat": 4,
 "nbformat_minor": 4
}
