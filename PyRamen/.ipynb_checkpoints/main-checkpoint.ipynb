{
 "cells": [
  {
   "cell_type": "code",
   "execution_count": 1,
   "metadata": {},
   "outputs": [],
   "source": [
    "#PyRamen - Python Homework 1 - Benjamin Weymouth "
   ]
  },
  {
   "cell_type": "code",
   "execution_count": 2,
   "metadata": {},
   "outputs": [],
   "source": [
    "#import required libraries \n",
    "import csv\n",
    "from pathlib import Path\n",
    "import numpy as np "
   ]
  },
  {
   "cell_type": "code",
   "execution_count": 3,
   "metadata": {},
   "outputs": [
    {
     "data": {
      "text/plain": [
       "WindowsPath('Resources/menu_data.csv')"
      ]
     },
     "execution_count": 3,
     "metadata": {},
     "output_type": "execute_result"
    }
   ],
   "source": [
    "# set up the file path for menu and check it \n",
    "menu_filepath = Path('./Resources/menu_data.csv')\n",
    "\n",
    "menu_filepath"
   ]
  },
  {
   "cell_type": "code",
   "execution_count": 4,
   "metadata": {},
   "outputs": [
    {
     "data": {
      "text/plain": [
       "WindowsPath('Resources/sales_data.csv')"
      ]
     },
     "execution_count": 4,
     "metadata": {},
     "output_type": "execute_result"
    }
   ],
   "source": [
    "sales_filepath = Path('./Resources/sales_data.csv')\n",
    "sales_filepath"
   ]
  },
  {
   "cell_type": "code",
   "execution_count": 5,
   "metadata": {},
   "outputs": [
    {
     "name": "stdout",
     "output_type": "stream",
     "text": [
      "Current Working Directory: C:\\Users\\benja\\BootCamp_Python_Homework\\python-homework\\PyRamen\n"
     ]
    }
   ],
   "source": [
    "#check working directory \n",
    "\n",
    "print(f\"Current Working Directory: {Path.cwd()}\")"
   ]
  },
  {
   "cell_type": "code",
   "execution_count": 6,
   "metadata": {},
   "outputs": [],
   "source": [
    "#list objects for menu and sales data\n",
    "menus = []\n",
    "sales = []\n"
   ]
  },
  {
   "cell_type": "code",
   "execution_count": 7,
   "metadata": {},
   "outputs": [
    {
     "name": "stdout",
     "output_type": "stream",
     "text": [
      "<class '_io.TextIOWrapper'>\n",
      "<class '_csv.reader'>\n",
      "['item', 'category', 'description', 'price', 'cost']\n"
     ]
    }
   ],
   "source": [
    "# @TODO: Read in the menu data into the menu list\n",
    "\n",
    "# use open method to open menu_path\n",
    "with open(menu_filepath, 'r') as csvfile:\n",
    "\n",
    "    # check type\n",
    "    print(type(csvfile))\n",
    "\n",
    "    # set up csv.reader, specify a delimiter \n",
    "    csvreader = csv.reader(csvfile, delimiter=',')\n",
    "    # check csv datatype \n",
    "    print(type(csvreader))\n",
    "    \n",
    "      # skip over header\n",
    "    header = next(csvreader)\n",
    "    print(header)\n",
    "    \n",
    "    #read in data into a list object \n",
    "    for row in csvreader:\n",
    "        # date variable equal to date row values \n",
    "         \n",
    "        menu = row[0:5]\n",
    "        # Append the row date value to the list of dates\n",
    "        menus.append(menu)\n",
    "\n",
    "#commented out print method. only to show work as testing purposes (test driven development)\n",
    "#print(menus)"
   ]
  },
  {
   "cell_type": "code",
   "execution_count": 8,
   "metadata": {},
   "outputs": [
    {
     "name": "stdout",
     "output_type": "stream",
     "text": [
      "32\n"
     ]
    }
   ],
   "source": [
    "#only to show work as testing purposes (test driven development) check length of list \n",
    "#should be 32 because we skipped the header   \n",
    "\n",
    "print(len(menus))"
   ]
  },
  {
   "cell_type": "code",
   "execution_count": 9,
   "metadata": {},
   "outputs": [
    {
     "name": "stdout",
     "output_type": "stream",
     "text": [
      "<class '_io.TextIOWrapper'>\n",
      "<class '_csv.reader'>\n",
      "['Line_Item_ID', 'Date', 'Credit_Card_Number', 'Quantity', 'Menu_Item']\n"
     ]
    }
   ],
   "source": [
    "# @TODO: Read in the sales data into the sales list\n",
    "\n",
    "# use open method to open sales_filepath\n",
    "with open(sales_filepath, 'r') as csvfile:\n",
    "\n",
    "    # check type\n",
    "    print(type(csvfile))\n",
    "\n",
    "    # set up csv.reader, specify a delimiter \n",
    "    csvreader = csv.reader(csvfile, delimiter=',')\n",
    "    \n",
    "    # check csv datatype \n",
    "    print(type(csvreader))\n",
    "    \n",
    "    # skip over header\n",
    "    header = next(csvreader)\n",
    "    print(header)\n",
    "    \n",
    "    #read in data into a list object \n",
    "    for row in csvreader:\n",
    "        # date variable equal to date row values \n",
    "         \n",
    "        sale = row[0:5]\n",
    "        # Append the row date value to the list of dates\n",
    "        sales.append(sale)\n",
    "        \n",
    "    #Only for testing purposes so commented out (but kept to show work)\n",
    "    #print(sales)"
   ]
  },
  {
   "cell_type": "code",
   "execution_count": 10,
   "metadata": {},
   "outputs": [
    {
     "name": "stdout",
     "output_type": "stream",
     "text": [
      "74124\n"
     ]
    }
   ],
   "source": [
    "#check length of sales list \n",
    "#should be 74125 minus the header so 74124 rows. \n",
    "\n",
    "print(len(sales))"
   ]
  },
  {
   "cell_type": "code",
   "execution_count": 11,
   "metadata": {},
   "outputs": [
    {
     "data": {
      "text/plain": [
       "{}"
      ]
     },
     "execution_count": 11,
     "metadata": {},
     "output_type": "execute_result"
    }
   ],
   "source": [
    "# Initialize dict object to hold our key-value pairs of items and metrics\n",
    "report = {}\n",
    "report"
   ]
  },
  {
   "cell_type": "code",
   "execution_count": 14,
   "metadata": {
    "tags": []
   },
   "outputs": [
    {
     "name": "stdout",
     "output_type": "stream",
     "text": [
      "{'spicy miso ramen': {'01-count': 18476, '02-revenue': 221712.0, '03-cogs': 92380.0, '04-profit': 237076.0}, 'tori paitan ramen': {'01-count': 18312, '02-revenue': 238056.0, '03-cogs': 109872.0, '04-profit': 227976.0}, 'truffle butter ramen': {'01-count': 17964, '02-revenue': 251496.0, '03-cogs': 125748.0, '04-profit': 223020.0}, 'tonkotsu ramen': {'01-count': 18576, '02-revenue': 241488.0, '03-cogs': 111456.0, '04-profit': 239456.0}, 'vegetarian spicy miso': {'01-count': 18432, '02-revenue': 221184.0, '03-cogs': 92160.0, '04-profit': 234920.0}, 'shio ramen': {'01-count': 18360, '02-revenue': 201960.0, '03-cogs': 91800.0, '04-profit': 201648.0}, 'miso crab ramen': {'01-count': 17780, '02-revenue': 213360.0, '03-cogs': 106680.0, '04-profit': 194520.0}, 'nagomi shoyu': {'01-count': 18264, '02-revenue': 200904.0, '03-cogs': 91320.0, '04-profit': 204432.0}, 'soft-shell miso crab ramen': {'01-count': 18260, '02-revenue': 255640.0, '03-cogs': 127820.0, '04-profit': 232316.0}, 'burnt garlic tonkotsu ramen': {'01-count': 18140, '02-revenue': 253960.0, '03-cogs': 108840.0, '04-profit': 259680.0}, 'vegetarian curry + king trumpet mushroom ramen': {'01-count': 17648, '02-revenue': 229424.0, '03-cogs': 123536.0, '04-profit': 185616.0}}\n"
     ]
    }
   ],
   "source": [
    "#list for data that doesnt match \n",
    "no_match = []\n",
    "\n",
    "#loop through the sales list, check if the menu_item column exists in the dictionary called report \n",
    "#check if the menu_item exists in the dictionary \n",
    "\n",
    "for row in sales:\n",
    "    menu_item = row[4]\n",
    "    quantity = int(row[3])\n",
    "    if menu_item not in report:\n",
    "        report[menu_item] = { \"01-count\": 0, \"02-revenue\": 0, \"03-cogs\": 0, \"04-profit\": 0,}\n",
    "    for i in menus: \n",
    "        item = i[0]\n",
    "        price = float(i[3])\n",
    "        cost = float(i[4])\n",
    "        if item == menu_item:\n",
    "            profit = quantity * (price - cost)    \n",
    "            report[menu_item][\"01-count\"] += quantity\n",
    "            report[menu_item][\"02-revenue\"] += price * quantity\n",
    "            report[menu_item][\"03-cogs\"] += cost * quantity\n",
    "            report[menu_item][\"04-profit\"] += profit * quantity\n",
    "        elif item != menu_item: \n",
    "            no_match.append(f\"{menu_item} does not equal {item}! NO MATCH!\")\n",
    "            \n",
    "print(report)"
   ]
  },
  {
   "cell_type": "code",
   "execution_count": 13,
   "metadata": {},
   "outputs": [
    {
     "name": "stdout",
     "output_type": "stream",
     "text": [
      "{'spicy miso ramen': {'01-count': 9238, '02-revenue': 110856.0, '03-cogs': 46190.0, '04-profit': 118538.0}, 'tori paitan ramen': {'01-count': 9156, '02-revenue': 119028.0, '03-cogs': 54936.0, '04-profit': 113988.0}, 'truffle butter ramen': {'01-count': 8982, '02-revenue': 125748.0, '03-cogs': 62874.0, '04-profit': 111510.0}, 'tonkotsu ramen': {'01-count': 9288, '02-revenue': 120744.0, '03-cogs': 55728.0, '04-profit': 119728.0}, 'vegetarian spicy miso': {'01-count': 9216, '02-revenue': 110592.0, '03-cogs': 46080.0, '04-profit': 117460.0}, 'shio ramen': {'01-count': 9180, '02-revenue': 100980.0, '03-cogs': 45900.0, '04-profit': 100824.0}, 'miso crab ramen': {'01-count': 8890, '02-revenue': 106680.0, '03-cogs': 53340.0, '04-profit': 97260.0}, 'nagomi shoyu': {'01-count': 9132, '02-revenue': 100452.0, '03-cogs': 45660.0, '04-profit': 102216.0}, 'soft-shell miso crab ramen': {'01-count': 9130, '02-revenue': 127820.0, '03-cogs': 63910.0, '04-profit': 116158.0}, 'burnt garlic tonkotsu ramen': {'01-count': 9070, '02-revenue': 126980.0, '03-cogs': 54420.0, '04-profit': 129840.0}, 'vegetarian curry + king trumpet mushroom ramen': {'01-count': 8824, '02-revenue': 114712.0, '03-cogs': 61768.0, '04-profit': 92808.0}}\n"
     ]
    },
    {
     "name": "stderr",
     "output_type": "stream",
     "text": [
      "IOPub data rate exceeded.\n",
      "The notebook server will temporarily stop sending output\n",
      "to the client in order to avoid crashing it.\n",
      "To change this limit, set the config variable\n",
      "`--NotebookApp.iopub_data_rate_limit`.\n",
      "\n",
      "Current values:\n",
      "NotebookApp.iopub_data_rate_limit=1000000.0 (bytes/sec)\n",
      "NotebookApp.rate_limit_window=3.0 (secs)\n",
      "\n"
     ]
    }
   ],
   "source": [
    "print(report) \n",
    "print(no_match)"
   ]
  },
  {
   "cell_type": "code",
   "execution_count": null,
   "metadata": {},
   "outputs": [],
   "source": []
  }
 ],
 "metadata": {
  "interpreter": {
   "hash": "8c9f6109243efbe3fbee7d761dc0e883205c8e2e3f541eaf566327113f419cea"
  },
  "kernelspec": {
   "display_name": "Python 3",
   "language": "python",
   "name": "python3"
  },
  "language_info": {
   "codemirror_mode": {
    "name": "ipython",
    "version": 3
   },
   "file_extension": ".py",
   "mimetype": "text/x-python",
   "name": "python",
   "nbconvert_exporter": "python",
   "pygments_lexer": "ipython3",
   "version": "3.8.5"
  }
 },
 "nbformat": 4,
 "nbformat_minor": 4
}
