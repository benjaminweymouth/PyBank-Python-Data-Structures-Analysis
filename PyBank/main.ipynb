{
 "cells": [
  {
   "cell_type": "code",
   "execution_count": 1,
   "metadata": {},
   "outputs": [],
   "source": [
    "#PyBank homework exercise 1. Benjamin Weymouth "
   ]
  },
  {
   "cell_type": "code",
   "execution_count": 9,
   "metadata": {},
   "outputs": [],
   "source": [
    "#import required libraries \n",
    "import csv\n",
    "from pathlib import Path"
   ]
  },
  {
   "cell_type": "code",
   "execution_count": 10,
   "metadata": {},
   "outputs": [
    {
     "data": {
      "text/plain": [
       "WindowsPath('Resources/budget_data.csv')"
      ]
     },
     "execution_count": 10,
     "metadata": {},
     "output_type": "execute_result"
    }
   ],
   "source": [
    "# set up the file path \n",
    "csvpath = Path('./Resources/budget_data.csv')\n",
    "csvpath"
   ]
  },
  {
   "cell_type": "code",
   "execution_count": 11,
   "metadata": {},
   "outputs": [
    {
     "name": "stdout",
     "output_type": "stream",
     "text": [
      "Current Working Directory: C:\\Users\\benja\\BootCamp_Python_Homework\\python-homework\\PyBank\n"
     ]
    }
   ],
   "source": [
    "print(f\"Current Working Directory: {Path.cwd()}\")"
   ]
  },
  {
   "cell_type": "code",
   "execution_count": 12,
   "metadata": {},
   "outputs": [],
   "source": [
    "# Initialize lists to hold data \n",
    "\n",
    "dates = []\n",
    "profit_losses = []\n"
   ]
  },
  {
   "cell_type": "code",
   "execution_count": 13,
   "metadata": {},
   "outputs": [
    {
     "data": {
      "text/plain": [
       "[]"
      ]
     },
     "execution_count": 13,
     "metadata": {},
     "output_type": "execute_result"
    }
   ],
   "source": [
    "#check dates list \n",
    "dates"
   ]
  },
  {
   "cell_type": "code",
   "execution_count": 14,
   "metadata": {},
   "outputs": [
    {
     "data": {
      "text/plain": [
       "[]"
      ]
     },
     "execution_count": 14,
     "metadata": {},
     "output_type": "execute_result"
    }
   ],
   "source": [
    "#check profit_losses\n",
    "profit_losses"
   ]
  },
  {
   "cell_type": "code",
   "execution_count": 15,
   "metadata": {},
   "outputs": [
    {
     "name": "stdout",
     "output_type": "stream",
     "text": [
      "<class '_io.TextIOWrapper'>\n",
      "<class '_csv.reader'>\n",
      "['Date', 'Profit/Losses']\n"
     ]
    }
   ],
   "source": [
    "# use open method to open csvpath \n",
    "with open(csvpath, 'r') as csvfile:\n",
    "\n",
    "    # check datatype \n",
    "    print(type(csvfile))\n",
    "\n",
    "    # set up csv.reader, specify a delimiter \n",
    "    csvreader = csv.reader(csvfile, delimiter=',')\n",
    "    # check csv datatype \n",
    "    print(type(csvreader))\n",
    "    #print header for readability purposes \n",
    "    \n",
    "    # skip over header\n",
    "    header = next(csvreader)\n",
    "    print(header)\n",
    "    \n",
    "    #read in data into a list object \n",
    "    for row in csvreader:\n",
    "        # date variable equal to date row values \n",
    "        date = row[0]\n",
    "        # Append the row salary value to the list of salaries\n",
    "        dates.append(date)\n",
    "        #set profit_loss value and casting to an integer \n",
    "        profit_loss = int(row[1])\n",
    "        profit_losses.append(profit_loss)\n",
    "    "
   ]
  },
  {
   "cell_type": "code",
   "execution_count": 16,
   "metadata": {},
   "outputs": [
    {
     "data": {
      "text/plain": [
       "86"
      ]
     },
     "execution_count": 16,
     "metadata": {},
     "output_type": "execute_result"
    }
   ],
   "source": [
    "#using the built in \"len\" method \n",
    "total_months = len(dates)\n",
    "#This total_months represents the total number of months included in the dataset.\n",
    "total_months"
   ]
  },
  {
   "cell_type": "code",
   "execution_count": 17,
   "metadata": {},
   "outputs": [
    {
     "data": {
      "text/plain": [
       "[867884,\n",
       " 984655,\n",
       " 322013,\n",
       " -69417,\n",
       " 310503,\n",
       " 522857,\n",
       " 1033096,\n",
       " 604885,\n",
       " -216386,\n",
       " 477532,\n",
       " 893810,\n",
       " -80353,\n",
       " 779806,\n",
       " -335203,\n",
       " 697845,\n",
       " 793163,\n",
       " 485070,\n",
       " 584122,\n",
       " 62729,\n",
       " 668179,\n",
       " 899906,\n",
       " 834719,\n",
       " 132003,\n",
       " 309978,\n",
       " -755566,\n",
       " 1170593,\n",
       " 252788,\n",
       " 1151518,\n",
       " 817256,\n",
       " 570757,\n",
       " 506702,\n",
       " -1022534,\n",
       " 475062,\n",
       " 779976,\n",
       " 144175,\n",
       " 542494,\n",
       " 359333,\n",
       " 321469,\n",
       " 67780,\n",
       " 471435,\n",
       " 565603,\n",
       " 872480,\n",
       " 789480,\n",
       " 999942,\n",
       " -1196225,\n",
       " 268997,\n",
       " -687986,\n",
       " 1150461,\n",
       " 682458,\n",
       " 617856,\n",
       " 824098,\n",
       " 581943,\n",
       " 132864,\n",
       " 448062,\n",
       " 689161,\n",
       " 800701,\n",
       " 1166643,\n",
       " 947333,\n",
       " 578668,\n",
       " 988505,\n",
       " 1139715,\n",
       " 1029471,\n",
       " 687533,\n",
       " -524626,\n",
       " 158620,\n",
       " 87795,\n",
       " 423389,\n",
       " 840723,\n",
       " 568529,\n",
       " 332067,\n",
       " 989499,\n",
       " 778237,\n",
       " 650000,\n",
       " -1100387,\n",
       " -174946,\n",
       " 757143,\n",
       " 445709,\n",
       " 712961,\n",
       " -1163797,\n",
       " 569899,\n",
       " 768450,\n",
       " 102685,\n",
       " 795914,\n",
       " 60988,\n",
       " 138230,\n",
       " 671099]"
      ]
     },
     "execution_count": 17,
     "metadata": {},
     "output_type": "execute_result"
    }
   ],
   "source": [
    "profit_losses"
   ]
  },
  {
   "cell_type": "code",
   "execution_count": null,
   "metadata": {},
   "outputs": [],
   "source": [
    "# sum() , print formatting with a $ dollar sign \n",
    "# avg function avg()\n",
    "# some of them want decimals, others no decimals \n"
   ]
  },
  {
   "cell_type": "code",
   "execution_count": null,
   "metadata": {},
   "outputs": [],
   "source": []
  },
  {
   "cell_type": "code",
   "execution_count": null,
   "metadata": {},
   "outputs": [],
   "source": [
    "#The net total amount of Profit/Losses over the entire period.\n",
    "#Pseudo-code: Take a for loop, and iterate through the profit/losses column \n",
    "#Sum up the total in P/L column \n",
    "# total +=, sum() \n",
    "#variable called total_amount"
   ]
  },
  {
   "cell_type": "code",
   "execution_count": null,
   "metadata": {},
   "outputs": [],
   "source": [
    "#The average of the changes in Profit/Losses over the entire period.\n",
    "#variable name is average_PL\n",
    "#Pseudo-code: average_PL = round(total_amount / total_months, 2)\n",
    "#do need to add the dollar sign \n",
    "#print(f\"Average  Change: ${average_PL}\")"
   ]
  },
  {
   "cell_type": "code",
   "execution_count": null,
   "metadata": {},
   "outputs": [],
   "source": [
    "#Create a list of PnL numbers. \n",
    "# PL_values = []\n",
    "#The greatest increase in profits (date and amount) over the entire period.\n",
    "\n",
    "#Pseudo-code: maximum_value, but with no decimal places "
   ]
  },
  {
   "cell_type": "code",
   "execution_count": null,
   "metadata": {},
   "outputs": [],
   "source": [
    "#The greatest decrease in losses (date and amount) over the entire period.\n",
    "#Pseudo-code: minimum_value, but with no decimal places "
   ]
  },
  {
   "cell_type": "code",
   "execution_count": null,
   "metadata": {},
   "outputs": [],
   "source": [
    "#print out all the values \n",
    "#make sure its formatted as in the example \n",
    "# print(----------------------)\n"
   ]
  },
  {
   "cell_type": "code",
   "execution_count": null,
   "metadata": {},
   "outputs": [],
   "source": [
    "##last step\n",
    "#set up a list to hold all of our data\n",
    "\n",
    "metrics = []\n",
    "# export a text file with the results.\n",
    "#use csv_reader.py file as a template \n",
    "\n"
   ]
  }
 ],
 "metadata": {
  "kernelspec": {
   "display_name": "Python 3",
   "language": "python",
   "name": "python3"
  },
  "language_info": {
   "codemirror_mode": {
    "name": "ipython",
    "version": 3
   },
   "file_extension": ".py",
   "mimetype": "text/x-python",
   "name": "python",
   "nbconvert_exporter": "python",
   "pygments_lexer": "ipython3",
   "version": "3.8.5"
  }
 },
 "nbformat": 4,
 "nbformat_minor": 4
}
